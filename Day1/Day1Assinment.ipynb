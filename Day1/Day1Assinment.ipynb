{
 "cells": [
  {
   "cell_type": "markdown",
   "metadata": {},
   "source": [
    "# What is Python?What are the ways to install Python in pc?"
   ]
  },
  {
   "cell_type": "markdown",
   "metadata": {},
   "source": [
    "python is interpreted,high level ,genral purpose programing language \n",
    "It is created bu guido vann Rossum and first released in 1991\n",
    "It is simple and easy to learn\n",
    "\n",
    "Ways to install Python in pc\n",
    "=>Firt by using the IDE we caon install python in pc\n",
    "=>By using notebokks \n",
    "=>By using python #.8 on pc and text editer on command prompt \n",
    "=>Byusing Anaconda whichb is huge source of libraryes\n",
    "    "
   ]
  },
  {
   "cell_type": "markdown",
   "metadata": {},
   "source": [
    "# What are Code Environment ?typs?"
   ]
  },
  {
   "cell_type": "markdown",
   "metadata": {},
   "source": [
    "A code environment is a standalone and self-contained environment to run Python or R code. Each code environment has its own set of packages. Environments are independent: you can install different packages or different versions of packages in different environments without interaction between them.\n",
    "\n",
    "Typs\n",
    "Threre are many typs of code environments \n",
    "like visual studio\n",
    "Eclipose\n",
    "these are the code environment\n"
   ]
  },
  {
   "cell_type": "code",
   "execution_count": null,
   "metadata": {},
   "outputs": [],
   "source": []
  }
 ],
 "metadata": {
  "kernelspec": {
   "display_name": "Python 3",
   "language": "python",
   "name": "python3"
  },
  "language_info": {
   "codemirror_mode": {
    "name": "ipython",
    "version": 3
   },
   "file_extension": ".py",
   "mimetype": "text/x-python",
   "name": "python",
   "nbconvert_exporter": "python",
   "pygments_lexer": "ipython3",
   "version": "3.7.6"
  }
 },
 "nbformat": 4,
 "nbformat_minor": 4
}
